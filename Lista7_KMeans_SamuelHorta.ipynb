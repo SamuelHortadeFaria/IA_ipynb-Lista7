{
  "cells": [
    {
      "cell_type": "markdown",
      "metadata": {
        "id": "view-in-github",
        "colab_type": "text"
      },
      "source": [
        "<a href=\"https://colab.research.google.com/github/SamuelHortadeFaria/IA_ipynb-Lista7/blob/main/Lista7_KMeans_SamuelHorta.ipynb\" target=\"_parent\"><img src=\"https://colab.research.google.com/assets/colab-badge.svg\" alt=\"Open In Colab\"/></a>"
      ]
    },
    {
      "cell_type": "markdown",
      "id": "e64012c0",
      "metadata": {
        "id": "e64012c0"
      },
      "source": [
        "# Resolução da Lista 7 - Agrupamento (KMeans com Iris)\n",
        "Aluno: Samuel Horta de Faria - 801528\n",
        "\n",
        "Disciplina: Inteligência Artificial  \n",
        "Professora: Cristiane Neri Nobre"
      ]
    },
    {
      "cell_type": "code",
      "execution_count": null,
      "id": "b532ea69",
      "metadata": {
        "id": "b532ea69"
      },
      "outputs": [],
      "source": [
        "!pip install plotly --upgrade\n",
        "!pip install kneed\n",
        "!pip install minisom"
      ]
    },
    {
      "cell_type": "code",
      "execution_count": null,
      "id": "1d87c229",
      "metadata": {
        "id": "1d87c229"
      },
      "outputs": [],
      "source": [
        "import pandas as pd\n",
        "import numpy as np\n",
        "import matplotlib.pyplot as plt\n",
        "import seaborn as sns\n",
        "from sklearn.preprocessing import MinMaxScaler, StandardScaler\n",
        "from sklearn.cluster import KMeans, DBSCAN\n",
        "from sklearn.metrics import silhouette_score, davies_bouldin_score, adjusted_rand_score\n",
        "from sklearn.decomposition import PCA\n",
        "from kneed import KneeLocator\n",
        "from minisom import MiniSom"
      ]
    },
    {
      "cell_type": "markdown",
      "id": "865848d3",
      "metadata": {
        "id": "865848d3"
      },
      "source": [
        "## Questão 1 - Pré-processamento"
      ]
    },
    {
      "cell_type": "code",
      "execution_count": null,
      "id": "4d04b20a",
      "metadata": {
        "id": "4d04b20a"
      },
      "outputs": [],
      "source": [
        "base = pd.read_csv('/content/sample_data/iris.csv', encoding='cp1252')\n",
        "Entrada = base.iloc[:, 0:4].values\n",
        "\n",
        "scaler = MinMaxScaler()\n",
        "Entrada = scaler.fit_transform(Entrada)\n",
        "\n",
        "from scipy.stats import zscore\n",
        "z_scores = np.abs(zscore(Entrada))\n",
        "Entrada = Entrada[(z_scores < 3).all(axis=1)]\n",
        "\n",
        "Entrada.shape"
      ]
    },
    {
      "cell_type": "markdown",
      "id": "a86e2ded",
      "metadata": {
        "id": "a86e2ded"
      },
      "source": [
        "## Questão 2 - Avaliação dos Agrupamentos"
      ]
    },
    {
      "cell_type": "code",
      "execution_count": null,
      "id": "eddc680b",
      "metadata": {
        "id": "eddc680b"
      },
      "outputs": [],
      "source": [
        "wcss = []\n",
        "for i in range(1, 11):\n",
        "    kmeans = KMeans(n_clusters=i, init='k-means++', random_state=42)\n",
        "    kmeans.fit(Entrada)\n",
        "    wcss.append(kmeans.inertia_)\n",
        "\n",
        "kl = KneeLocator(range(1, 11), wcss, curve=\"convex\", direction=\"decreasing\")\n",
        "print(\"Número ideal de clusters (Elbow):\", kl.elbow)\n",
        "\n",
        "sil = []\n",
        "for k in range(2, 11):\n",
        "    kmeans = KMeans(n_clusters=k, random_state=42)\n",
        "    kmeans.fit(Entrada)\n",
        "    sil.append(silhouette_score(Entrada, kmeans.labels_))\n",
        "\n",
        "plt.plot(range(2,11), sil)\n",
        "plt.xlabel(\"k\")\n",
        "plt.ylabel(\"Silhouette Score\")\n",
        "plt.show()"
      ]
    },
    {
      "cell_type": "markdown",
      "id": "5b208971",
      "metadata": {
        "id": "5b208971"
      },
      "source": [
        "## Questão 3 - Hiperparâmetros"
      ]
    },
    {
      "cell_type": "code",
      "execution_count": null,
      "id": "c2684811",
      "metadata": {
        "id": "c2684811"
      },
      "outputs": [],
      "source": [
        "modelo = KMeans(n_clusters=3, init='k-means++', n_init=10, max_iter=300, random_state=42)\n",
        "modelo.fit(Entrada)\n",
        "labels = modelo.labels_"
      ]
    },
    {
      "cell_type": "markdown",
      "id": "83966bab",
      "metadata": {
        "id": "83966bab"
      },
      "source": [
        "## Questão 4 - Fórmulas Matemáticas\n",
        "\n",
        "**Distância Euclidiana:**  \n",
        "\\[ d(\\vec{x}, \\vec{y}) = \\sqrt{\\sum_{i=1}^n (x_i - y_i)^2} \\]\n",
        "\n",
        "**Silhouette Score:**  \n",
        "\\[ s(i) = \\frac{b(i) - a(i)}{\\max(a(i), b(i))} \\]\n",
        "\n",
        "- \\(a(i)\\): distância média entre o ponto e os pontos do mesmo cluster.\n",
        "- \\(b(i)\\): distância média até o cluster mais próximo."
      ]
    },
    {
      "cell_type": "markdown",
      "id": "781f386a",
      "metadata": {
        "id": "781f386a"
      },
      "source": [
        "## Questão 5 - Métrica adicional: Davies-Bouldin"
      ]
    },
    {
      "cell_type": "code",
      "execution_count": null,
      "id": "dbfa03b8",
      "metadata": {
        "id": "dbfa03b8"
      },
      "outputs": [],
      "source": [
        "score_db = davies_bouldin_score(Entrada, labels)\n",
        "print(\"Davies-Bouldin Index:\", score_db)"
      ]
    },
    {
      "cell_type": "markdown",
      "id": "f8fb0c58",
      "metadata": {
        "id": "f8fb0c58"
      },
      "source": [
        "## Questão 6 - DBSCAN e SOM"
      ]
    },
    {
      "cell_type": "code",
      "execution_count": null,
      "id": "974908cf",
      "metadata": {
        "id": "974908cf"
      },
      "outputs": [],
      "source": [
        "# DBSCAN\n",
        "modelo_db = DBSCAN(eps=0.3, min_samples=5)\n",
        "labels_db = modelo_db.fit_predict(Entrada)\n",
        "\n",
        "# SOM\n",
        "som = MiniSom(x=3, y=1, input_len=4, sigma=1.0, learning_rate=0.5)\n",
        "som.random_weights_init(Entrada)\n",
        "som.train_random(Entrada, 100)\n",
        "labels_som = np.array([som.winner(x)[0] for x in Entrada])\n",
        "\n",
        "print(\"KMeans clusters:\", len(set(labels)))\n",
        "print(\"DBSCAN clusters:\", len(set(labels_db)) - (1 if -1 in labels_db else 0))\n",
        "print(\"SOM clusters:\", len(set(labels_som)))"
      ]
    },
    {
      "cell_type": "markdown",
      "id": "ea675ee3",
      "metadata": {
        "id": "ea675ee3"
      },
      "source": [
        "## Questão 7 - Instâncias agrupadas incorretamente"
      ]
    },
    {
      "cell_type": "code",
      "execution_count": null,
      "id": "8a54cc21",
      "metadata": {
        "id": "8a54cc21"
      },
      "outputs": [],
      "source": [
        "labels_reais = base['Species'][:len(Entrada)]\n",
        "Entrada_2D = PCA(n_components=2).fit_transform(Entrada)\n",
        "df_vis = pd.DataFrame(Entrada_2D, columns=['PC1', 'PC2'])\n",
        "df_vis['Cluster'] = labels\n",
        "df_vis['Classe'] = labels_reais.values\n",
        "\n",
        "sns.scatterplot(data=df_vis, x='PC1', y='PC2', hue='Classe', style='Cluster')\n",
        "plt.title(\"Comparação entre Classe e Cluster\")\n",
        "plt.show()\n",
        "\n",
        "print(\"ARI:\", adjusted_rand_score(labels_reais, labels))"
      ]
    },
    {
      "cell_type": "markdown",
      "id": "9a5f2b01",
      "metadata": {
        "id": "9a5f2b01"
      },
      "source": [
        "## Questão 8 - Relatório Final\n",
        "\n",
        "- **Base utilizada**: Iris\n",
        "- **Pré-processamento**: Normalização + remoção de outliers\n",
        "- **Algoritmos**: KMeans, DBSCAN, SOM\n",
        "- **Avaliação**: Elbow, Silhouette, Davies-Bouldin, ARI\n",
        "- **Conclusão**: KMeans se adequa bem à base Iris, mas DBSCAN pode encontrar formas mais complexas."
      ]
    }
  ],
  "metadata": {
    "language": "python",
    "colab": {
      "provenance": [],
      "include_colab_link": true
    }
  },
  "nbformat": 4,
  "nbformat_minor": 5
}